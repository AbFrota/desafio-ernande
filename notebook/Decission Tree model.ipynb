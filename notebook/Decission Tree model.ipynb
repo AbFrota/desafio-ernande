{
 "cells": [
  {
   "cell_type": "code",
   "execution_count": 1,
   "metadata": {},
   "outputs": [],
   "source": [
    "import pandas as pd\n",
    "from sklearn.model_selection import train_test_split\n",
    "from sklearn.neighbors import KNeighborsClassifier\n",
    "import matplotlib.pyplot as plt\n",
    "import numpy as np\n",
    "from sklearn.metrics import accuracy_score\n",
    "from sklearn.tree import export_graphviz as graphviz\n",
    "import pydotplus\n",
    "from IPython.display import Image \n",
    "\n",
    "\n",
    "df = pd.read_csv('LOG_Ambiente.csv',sep =\";\")\n",
    "df.head()\n",
    "x = df[['temperature_in','temperature','humidity','gas']]\n",
    "y = df['cenario']"
   ]
  },
  {
   "cell_type": "code",
   "execution_count": 6,
   "metadata": {},
   "outputs": [
    {
     "name": "stdout",
     "output_type": "stream",
     "text": [
      "Treinaremos com 200 elementos e testaremos com 87 elementos\n",
      "A acurácia foi 100.00%\n"
     ]
    },
    {
     "data": {
      "text/plain": [
       "array([0])"
      ]
     },
     "execution_count": 6,
     "metadata": {},
     "output_type": "execute_result"
    }
   ],
   "source": [
    "from sklearn.tree import DecisionTreeClassifier\n",
    "\n",
    "SEED = 2\n",
    "np.random.seed(SEED)\n",
    "train_x, test_x, train_y, test_y = train_test_split(x, y, test_size = 0.3,\n",
    "                                                         stratify = y)\n",
    "print(\"Treinaremos com %d elementos e testaremos com %d elementos\" % (len(train_x), len(test_x)))\n",
    "\n",
    "\n",
    "\n",
    "modelo.tree =  DecisionTreeClassifier()\n",
    "modelo.tree.fit(train_x, train_y)\n",
    "\n",
    "import pickle\n",
    "filename = 'modelo_tree.pk1'\n",
    "pickle.dump(modelo.tree, open(filename, 'wb'))\n",
    "\n",
    "previsoes = modelo.predict(test_x)\n",
    "\n",
    "acuracia = accuracy_score(test_y, previsoes) * 100\n",
    "print(\"A acurácia foi %.2f%%\" % acuracia)\n",
    "\n",
    "previsao = modelo.predict([['18','20','45','117']])\n",
    "previsao\n",
    "#dot_data = graphviz(modelo, out_file=None)\n",
    "#graph = pydotplus.graph_from_dot_data(dot_data) \n",
    "#Image(graph.create_png())"
   ]
  },
  {
   "cell_type": "code",
   "execution_count": null,
   "metadata": {},
   "outputs": [],
   "source": []
  }
 ],
 "metadata": {
  "kernelspec": {
   "display_name": "Python 3",
   "language": "python",
   "name": "python3"
  },
  "language_info": {
   "codemirror_mode": {
    "name": "ipython",
    "version": 3
   },
   "file_extension": ".py",
   "mimetype": "text/x-python",
   "name": "python",
   "nbconvert_exporter": "python",
   "pygments_lexer": "ipython3",
   "version": "3.7.3"
  }
 },
 "nbformat": 4,
 "nbformat_minor": 2
}
